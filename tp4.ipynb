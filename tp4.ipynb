{
 "cells": [
  {
   "cell_type": "markdown",
   "id": "3e4771e8",
   "metadata": {},
   "source": [
    "# Trabajo Practico n4 - Introduccion a numpy.\n",
    "## Criterios de evaluación.\n",
    "\n",
    "* Se deben utilizar nombres de variables descriptivos y claros (Utilizar la nomeclatura correspondiente para los nombres de variables).\n",
    "* Comentarios claros y concisos que expliquen el propósito de cada sección del código.\n",
    "* Utilizar mensajes de commit **descriptivos**. (Puedes utilizar la extension CONVENTIONAL COMMIT de VS-CODE). \n",
    "* Entrega en tiempo y forma.\n",
    "* Todo el código desarrollado debe ser subido a un repositorio en GitHub (el nombre del repositorio de seguir la siguiente estructura: tp4_tlp3_nombre_apellido).\n",
    "* Para resolver las actividades se debe insertar casillas de codigo entre cada actividad del cuaderno de Jupyter\n",
    "\n",
    "### ¡Importante!\n",
    "**El incumplimiento de los criterios de evaluación restará puntos en la nota final del práctico!**"
   ]
  },
  {
   "cell_type": "markdown",
   "id": "6f3340d9",
   "metadata": {},
   "source": [
    "**Importaciones:**"
   ]
  },
  {
   "cell_type": "code",
   "execution_count": 1,
   "id": "783ab170",
   "metadata": {},
   "outputs": [],
   "source": [
    "import numpy as np\n",
    "from random import randint"
   ]
  },
  {
   "cell_type": "markdown",
   "id": "c5ba7292",
   "metadata": {},
   "source": [
    "**Actividad 1:**: Crea un array de NumPy que contenga los números del 0 al 9. (Debes utilizar un metodo de numpy para su creacion.)"
   ]
  },
  {
   "cell_type": "code",
   "execution_count": 2,
   "id": "75029034",
   "metadata": {},
   "outputs": [
    {
     "name": "stdout",
     "output_type": "stream",
     "text": [
      "Array con los números del 0 al 9: [0 1 2 3 4 5 6 7 8 9]\n"
     ]
    }
   ],
   "source": [
    "#todo: \n",
    "# Creamos un array con los números del 0 al 9 utilizando la función arange()\n",
    "array_numeros_0_al_9 = np.arange(10)\n",
    "\n",
    "# Mostramos el array generado\n",
    "print(\"Array con los números del 0 al 9:\", array_numeros_0_al_9)"
   ]
  },
  {
   "cell_type": "markdown",
   "id": "cb894927",
   "metadata": {},
   "source": [
    "**Actividad 2:** Crea un array de 5 ceros, y luego cambia el tercer elemento (índice 2) para que sea 5. (Debes utilizar un metodo de numpy para su creacion.)"
   ]
  },
  {
   "cell_type": "code",
   "execution_count": 3,
   "id": "b9cd04a0",
   "metadata": {},
   "outputs": [
    {
     "name": "stdout",
     "output_type": "stream",
     "text": [
      "Array después de modificar el tercer elemento: [0. 0. 5. 0. 0.]\n"
     ]
    }
   ],
   "source": [
    "#todo:\n",
    "# Creamos un array de 5 ceros utilizando np.zeros()\n",
    "array_ceros = np.zeros(5)\n",
    "\n",
    "# Modificamos el tercer elemento (índice 2) para que sea 5\n",
    "array_ceros[2] = 5\n",
    "\n",
    "# Mostramos el array resultante\n",
    "print(\"Array después de modificar el tercer elemento:\", array_ceros)"
   ]
  },
  {
   "cell_type": "markdown",
   "id": "000352a3",
   "metadata": {},
   "source": [
    "**Actividad 3:** Genera una matriz 3x3 de números aleatorios entre 0 y 1."
   ]
  },
  {
   "cell_type": "code",
   "execution_count": 4,
   "id": "e74354c9",
   "metadata": {},
   "outputs": [
    {
     "name": "stdout",
     "output_type": "stream",
     "text": [
      "Matriz 3x3 con números aleatorios entre 0 y 1:\n",
      "[[0.82979203 0.36602979 0.39844794]\n",
      " [0.1910638  0.52291598 0.78704339]\n",
      " [0.00820327 0.75681968 0.84520321]]\n"
     ]
    }
   ],
   "source": [
    "#todo: \n",
    "# Utilizamos la función np.random.rand() para generar una matriz 3x3 con valores aleatorios\n",
    "matriz_aleatoria_3x3 = np.random.rand(3, 3)\n",
    "\n",
    "# Mostramos la matriz generada\n",
    "print(\"Matriz 3x3 con números aleatorios entre 0 y 1:\")\n",
    "print(matriz_aleatoria_3x3)"
   ]
  },
  {
   "cell_type": "markdown",
   "id": "6611aaf8",
   "metadata": {},
   "source": [
    "**Actividad 4:** Dado el siguiente array `arr = np.array([10, 20, 30, 40, 50])`\n",
    "1. Suma 5 a cada elemento.\n",
    "2. Multiplica todo por un numero aleatorio (utiliza el modulo random para generarlo.)"
   ]
  },
  {
   "cell_type": "code",
   "execution_count": 5,
   "id": "ed416e11",
   "metadata": {},
   "outputs": [
    {
     "name": "stdout",
     "output_type": "stream",
     "text": [
      "Array original: [10 20 30 40 50]\n",
      "Array después de sumar 5: [15 25 35 45 55]\n",
      "Factor aleatorio generado: 7.03\n",
      "Array después de multiplicar por el número aleatorio: [105.46646931 175.77744885 246.08842839 316.39940793 386.71038747]\n"
     ]
    }
   ],
   "source": [
    "#todo:\n",
    "import random  # Importamos el módulo random para generar un número aleatorio\n",
    "\n",
    "# Array base proporcionado\n",
    "arr = np.array([10, 20, 30, 40, 50])\n",
    "\n",
    "# 1. Sumar 5 a cada elemento del array\n",
    "arr_sumado = arr + 5\n",
    "\n",
    "# 2. Generar un número aleatorio y multiplicar todo el array por ese número\n",
    "factor_aleatorio = random.uniform(1, 10)  # Número aleatorio entre 1 y 10\n",
    "arr_multiplicado = arr_sumado * factor_aleatorio\n",
    "\n",
    "# Mostrar resultados\n",
    "print(\"Array original:\", arr)\n",
    "print(\"Array después de sumar 5:\", arr_sumado)\n",
    "print(f\"Factor aleatorio generado: {factor_aleatorio:.2f}\")\n",
    "print(\"Array después de multiplicar por el número aleatorio:\", arr_multiplicado)"
   ]
  },
  {
   "cell_type": "markdown",
   "id": "fbd05c4d",
   "metadata": {},
   "source": [
    "**Actividad 5:** Crea una matriz identidad de tamaño 4x4 (unos en la diagonal principal y ceros en el resto)."
   ]
  },
  {
   "cell_type": "code",
   "execution_count": 6,
   "id": "6811c19f",
   "metadata": {},
   "outputs": [
    {
     "name": "stdout",
     "output_type": "stream",
     "text": [
      "Matriz identidad 4x4:\n",
      "[[1. 0. 0. 0.]\n",
      " [0. 1. 0. 0.]\n",
      " [0. 0. 1. 0.]\n",
      " [0. 0. 0. 1.]]\n"
     ]
    }
   ],
   "source": [
    "#todo:\n",
    "# Utilizamos la función np.eye() para crear la matriz identidad\n",
    "matriz_identidad_4x4 = np.eye(4)\n",
    "\n",
    "# Mostramos la matriz identidad generada\n",
    "print(\"Matriz identidad 4x4:\")\n",
    "print(matriz_identidad_4x4) "
   ]
  },
  {
   "cell_type": "markdown",
   "id": "3ec18459",
   "metadata": {},
   "source": [
    "**Actividad 6:** Crea un array que comience en 0 hasta el 20, pero que solo tenga numeros pares yu luego realiza las 4 operaciones basicas. (suma, resta, multiplicacion, division)."
   ]
  },
  {
   "cell_type": "code",
   "execution_count": 7,
   "id": "f0c02872",
   "metadata": {},
   "outputs": [
    {
     "name": "stdout",
     "output_type": "stream",
     "text": [
      "Array de números pares del 0 al 20: [ 0  2  4  6  8 10 12 14 16 18 20]\n",
      "Resultado de la suma (+2): [ 2  4  6  8 10 12 14 16 18 20 22]\n",
      "Resultado de la resta (-2): [-2  0  2  4  6  8 10 12 14 16 18]\n",
      "Resultado de la multiplicación (*2): [ 0  4  8 12 16 20 24 28 32 36 40]\n",
      "Resultado de la división (/2): [ 0.  1.  2.  3.  4.  5.  6.  7.  8.  9. 10.]\n"
     ]
    }
   ],
   "source": [
    "#todo: \n",
    "# Creamos el array con números pares entre 0 y 20 (inclusive)\n",
    "array_pares = np.arange(0, 21, 2)\n",
    "\n",
    "# Definimos un valor con el cual realizaremos las operaciones básicas (por ejemplo, 2)\n",
    "valor_operacion = 2\n",
    "\n",
    "# Realizamos las 4 operaciones básicas\n",
    "suma = array_pares + valor_operacion\n",
    "resta = array_pares - valor_operacion\n",
    "multiplicacion = array_pares * valor_operacion\n",
    "division = array_pares / valor_operacion\n",
    "\n",
    "# Mostramos resultados\n",
    "print(\"Array de números pares del 0 al 20:\", array_pares)\n",
    "print(\"Resultado de la suma (+2):\", suma)\n",
    "print(\"Resultado de la resta (-2):\", resta)\n",
    "print(\"Resultado de la multiplicación (*2):\", multiplicacion)\n",
    "print(\"Resultado de la división (/2):\", division)\n",
    "\n"
   ]
  }
 ],
 "metadata": {
  "kernelspec": {
   "display_name": "env",
   "language": "python",
   "name": "python3"
  },
  "language_info": {
   "codemirror_mode": {
    "name": "ipython",
    "version": 3
   },
   "file_extension": ".py",
   "mimetype": "text/x-python",
   "name": "python",
   "nbconvert_exporter": "python",
   "pygments_lexer": "ipython3",
   "version": "3.13.2"
  }
 },
 "nbformat": 4,
 "nbformat_minor": 5
}
